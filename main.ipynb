{
 "cells": [
  {
   "cell_type": "code",
   "execution_count": 1,
   "metadata": {
    "_cell_guid": "bc4fc5ce-3ca3-e526-5e1e-598ff5ad02c2",
    "collapsed": true
   },
   "outputs": [],
   "source": [
    "#import required libraries\n",
    "import pandas as pd\n",
    "import numpy as np\n",
    "from sklearn.linear_model import Ridge\n",
    "from sklearn.linear_model import Lasso"
   ]
  },
  {
   "cell_type": "code",
   "execution_count": 3,
   "metadata": {
    "_cell_guid": "144b1082-6f12-5c41-0dbd-6ec097bca43b",
    "collapsed": true
   },
   "outputs": [],
   "source": [
    "#read input files\n",
    "train = pd.read_csv(\"train.csv\", na_values=\"NA\")\n",
    "test = pd.read_csv(\"test.csv\", na_values=\"NA\")"
   ]
  },
  {
   "cell_type": "code",
   "execution_count": 5,
   "metadata": {
    "_cell_guid": "bf08cfa7-16ba-98b0-e9b1-e61b4773baba",
    "collapsed": false
   },
   "outputs": [],
   "source": [
    "#separate the output column from rest of data\n",
    "prices = train['SalePrice']\n",
    "train.drop('SalePrice', axis=1, inplace=True)\n",
    "#concat data to get all columns\n",
    "all_data = train\n",
    "all_data['MSSubClass'] = all_data['MSSubClass'].astype('category')\n",
    "#convert categorical columns into one-hot encoding\n",
    "all_data = pd.get_dummies(all_data)\n",
    "X = all_data.as_matrix()\n",
    "#handle NA values \n",
    "X = np.nan_to_num(X)"
   ]
  },
  {
   "cell_type": "code",
   "execution_count": 6,
   "metadata": {
    "_cell_guid": "ea114248-0521-f5f3-5fe0-d8d8d8b764d6",
    "collapsed": false
   },
   "outputs": [
    {
     "data": {
      "text/plain": [
       "(1168,)"
      ]
     },
     "execution_count": 6,
     "metadata": {},
     "output_type": "execute_result"
    }
   ],
   "source": [
    "#split data into training, development and test set\n",
    "X_train = X[:int(train.shape[0] * 0.8)]\n",
    "prices_train = prices[:int(train.shape[0] * 0.8)]\n",
    "X_dev = X[int(train.shape[0] * 0.8):train.shape[0]]\n",
    "prices_dev = prices[int(train.shape[0] * 0.8):]\n",
    "X_test = X[train.shape[0]:]\n",
    "prices_train.shape"
   ]
  },
  {
   "cell_type": "code",
   "execution_count": 5,
   "metadata": {
    "_cell_guid": "25f8a619-9781-2e0e-9ea5-10455978d99a",
    "collapsed": false
   },
   "outputs": [
    {
     "data": {
      "text/plain": [
       "Ridge(alpha=1.0, copy_X=True, fit_intercept=True, max_iter=None,\n",
       "   normalize=False, random_state=None, solver='auto', tol=0.001)"
      ]
     },
     "execution_count": 5,
     "metadata": {},
     "output_type": "execute_result"
    }
   ],
   "source": [
    "#create models and train\n",
    "clf = Ridge(alpha = 1.0)\n",
    "clf.fit(X_train, prices_train)"
   ]
  },
  {
   "cell_type": "code",
   "execution_count": 6,
   "metadata": {
    "_cell_guid": "d76ce1c1-b2bf-2b3f-7b7e-e29e3bf67002",
    "collapsed": false
   },
   "outputs": [
    {
     "data": {
      "text/plain": [
       "0.16635065269121163"
      ]
     },
     "execution_count": 6,
     "metadata": {},
     "output_type": "execute_result"
    }
   ],
   "source": [
    "#evaluate on development set\n",
    "Y = clf.predict(X_dev)\n",
    "sq_diff = np.square(np.log(prices_dev) - np.log(Y))\n",
    "error = np.sqrt(np.sum(sq_diff) / prices_dev.shape[0])\n",
    "error"
   ]
  },
  {
   "cell_type": "code",
   "execution_count": 7,
   "metadata": {
    "_cell_guid": "7f01f76d-bb3b-5ccb-3f06-c7ae4815e0ab",
    "collapsed": true
   },
   "outputs": [],
   "source": [
    "#prepare output for submission\n",
    "Y = clf.predict(X_test)\n",
    "out = pd.DataFrame()\n",
    "out['Id'] = [i for i in range(X_train.shape[0]+1,X_train.shape[0]+X_test.shape[0]+1)]\n",
    "out['SalePrice'] = Y\n",
    "out.to_csv('output_ridge.csv', index=False)"
   ]
  },
  {
   "cell_type": "code",
   "execution_count": 13,
   "metadata": {
    "_cell_guid": "9f5182aa-5fa3-a713-d0d1-6911d9f9feee",
    "collapsed": false
   },
   "outputs": [
    {
     "data": {
      "text/plain": [
       "0.16635065269121163"
      ]
     },
     "execution_count": 13,
     "metadata": {},
     "output_type": "execute_result"
    }
   ],
   "source": [
    "#evaluate on development set\n",
    "Y = clf.predict(X_dev)\n",
    "sq_diff = np.square(np.log(prices_dev) - np.log(Y))\n",
    "error = np.sqrt(np.sum(sq_diff) / prices_dev.shape[0])\n",
    "error"
   ]
  },
  {
   "cell_type": "code",
   "execution_count": 14,
   "metadata": {
    "_cell_guid": "9ca0a084-9d6d-7dae-35c3-5a75a9b1a3b9",
    "collapsed": false
   },
   "outputs": [
    {
     "name": "stderr",
     "output_type": "stream",
     "text": [
      "/opt/conda/lib/python3.5/site-packages/sklearn/linear_model/coordinate_descent.py:484: ConvergenceWarning: Objective did not converge. You might want to increase the number of iterations. Fitting data with very small alpha may cause precision problems.\n",
      "  ConvergenceWarning)\n"
     ]
    },
    {
     "data": {
      "text/plain": [
       "Lasso(alpha=1.0, copy_X=True, fit_intercept=True, max_iter=1000,\n",
       "   normalize=False, positive=False, precompute=False, random_state=None,\n",
       "   selection='cyclic', tol=0.0001, warm_start=False)"
      ]
     },
     "execution_count": 14,
     "metadata": {},
     "output_type": "execute_result"
    }
   ],
   "source": [
    "#create models and train\n",
    "clf = Lasso(alpha = 1.0)\n",
    "clf.fit(X_train, prices_train)"
   ]
  },
  {
   "cell_type": "code",
   "execution_count": 15,
   "metadata": {
    "_cell_guid": "9d55ab37-886f-9813-0bf3-391c5316e94b",
    "collapsed": false
   },
   "outputs": [
    {
     "data": {
      "text/plain": [
       "0.16665768999429451"
      ]
     },
     "execution_count": 15,
     "metadata": {},
     "output_type": "execute_result"
    }
   ],
   "source": [
    "#evaluate on development set\n",
    "Y = clf.predict(X_dev)\n",
    "sq_diff = np.square(np.log(prices_dev) - np.log(Y))\n",
    "error = np.sqrt(np.sum(sq_diff) / prices_dev.shape[0])\n",
    "error"
   ]
  },
  {
   "cell_type": "code",
   "execution_count": 16,
   "metadata": {
    "_cell_guid": "c6055022-52e5-276b-9832-4a8c999aa0d4",
    "collapsed": false
   },
   "outputs": [
    {
     "data": {
      "text/plain": [
       "{0.5: 0.16747693528743574,\n",
       " 1: 0.16635065269121163,\n",
       " 10: 0.15979498368925382,\n",
       " 100: 0.16472596678921295,\n",
       " 1000: 0.18909386389979971}"
      ]
     },
     "execution_count": 16,
     "metadata": {},
     "output_type": "execute_result"
    }
   ],
   "source": [
    "#test different values of alpha to get the best model\n",
    "alphas = [0.5, 1, 10, 100, 1000]\n",
    "errors = {}\n",
    "for alpha in alphas:\n",
    "    clf = Ridge(alpha = alpha)\n",
    "    clf.fit(X_train, prices_train)\n",
    "    Y = clf.predict(X_dev)\n",
    "    sq_diff = np.square(np.log(prices_dev) - np.log(Y))\n",
    "    error = np.sqrt(np.sum(sq_diff) / prices_dev.shape[0])\n",
    "    errors[alpha] = error\n",
    "errors"
   ]
  },
  {
   "cell_type": "code",
   "execution_count": 17,
   "metadata": {
    "_cell_guid": "9292aa17-49b5-5397-ecd7-8f7529fc1845",
    "collapsed": true
   },
   "outputs": [],
   "source": [
    "#prepare output for submission\n",
    "Y = clf.predict(X_test)\n",
    "out = pd.DataFrame()\n",
    "out['Id'] = [i for i in range(X_train.shape[0]+1,X_train.shape[0]+X_test.shape[0]+1)]\n",
    "out['SalePrice'] = Y\n",
    "out.to_csv('output_ridge.csv', index=False)"
   ]
  }
 ],
 "metadata": {
  "_change_revision": 106.0,
  "_is_fork": false,
  "kernelspec": {
   "display_name": "Python 2",
   "language": "python",
   "name": "python2"
  },
  "language_info": {
   "codemirror_mode": {
    "name": "ipython",
    "version": 2.0
   },
   "file_extension": ".py",
   "mimetype": "text/x-python",
   "name": "python",
   "nbconvert_exporter": "python",
   "pygments_lexer": "ipython2",
   "version": "2.7.12+"
  }
 },
 "nbformat": 4,
 "nbformat_minor": 0
}